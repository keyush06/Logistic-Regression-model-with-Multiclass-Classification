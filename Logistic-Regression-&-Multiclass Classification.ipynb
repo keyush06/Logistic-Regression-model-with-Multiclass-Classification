{
 "cells": [
  {
   "cell_type": "code",
   "execution_count": 1,
   "metadata": {},
   "outputs": [],
   "source": [
    "import numpy as np\n",
    "import pandas as pd\n",
    "import matplotlib.pyplot as plt\n",
    "import seaborn as sns\n",
    "%matplotlib inline\n",
    "# from colorsetup import colors, palette\n",
    "# sns.set_palette(palette)"
   ]
  },
  {
   "cell_type": "code",
   "execution_count": 2,
   "metadata": {},
   "outputs": [],
   "source": [
    "df = pd.read_csv(r'Human_Activity_Recognition_Using_Smartphones_Data.csv')"
   ]
  },
  {
   "cell_type": "markdown",
   "metadata": {},
   "source": [
    "##### We check the the shape of the data frame. Also we check the data types and the breakdown of the data basis each activity."
   ]
  },
  {
   "cell_type": "code",
   "execution_count": 3,
   "metadata": {},
   "outputs": [
    {
     "data": {
      "text/plain": [
       "(10299, 562)"
      ]
     },
     "execution_count": 3,
     "metadata": {},
     "output_type": "execute_result"
    }
   ],
   "source": [
    "df.shape"
   ]
  },
  {
   "cell_type": "code",
   "execution_count": 4,
   "metadata": {},
   "outputs": [
    {
     "data": {
      "text/html": [
       "<div>\n",
       "<style scoped>\n",
       "    .dataframe tbody tr th:only-of-type {\n",
       "        vertical-align: middle;\n",
       "    }\n",
       "\n",
       "    .dataframe tbody tr th {\n",
       "        vertical-align: top;\n",
       "    }\n",
       "\n",
       "    .dataframe thead th {\n",
       "        text-align: right;\n",
       "    }\n",
       "</style>\n",
       "<table border=\"1\" class=\"dataframe\">\n",
       "  <thead>\n",
       "    <tr style=\"text-align: right;\">\n",
       "      <th></th>\n",
       "      <th>0</th>\n",
       "      <th>1</th>\n",
       "      <th>2</th>\n",
       "      <th>3</th>\n",
       "      <th>4</th>\n",
       "      <th>5</th>\n",
       "      <th>6</th>\n",
       "      <th>7</th>\n",
       "      <th>8</th>\n",
       "      <th>9</th>\n",
       "      <th>...</th>\n",
       "      <th>10289</th>\n",
       "      <th>10290</th>\n",
       "      <th>10291</th>\n",
       "      <th>10292</th>\n",
       "      <th>10293</th>\n",
       "      <th>10294</th>\n",
       "      <th>10295</th>\n",
       "      <th>10296</th>\n",
       "      <th>10297</th>\n",
       "      <th>10298</th>\n",
       "    </tr>\n",
       "  </thead>\n",
       "  <tbody>\n",
       "    <tr>\n",
       "      <th>tBodyAcc-mean()-X</th>\n",
       "      <td>0.288585</td>\n",
       "      <td>0.278419</td>\n",
       "      <td>0.279653</td>\n",
       "      <td>0.279174</td>\n",
       "      <td>0.276629</td>\n",
       "      <td>0.277199</td>\n",
       "      <td>0.279454</td>\n",
       "      <td>0.277432</td>\n",
       "      <td>0.277293</td>\n",
       "      <td>0.280586</td>\n",
       "      <td>...</td>\n",
       "      <td>0.305631</td>\n",
       "      <td>0.321443</td>\n",
       "      <td>0.267413</td>\n",
       "      <td>0.147146</td>\n",
       "      <td>0.192275</td>\n",
       "      <td>0.310155</td>\n",
       "      <td>0.363385</td>\n",
       "      <td>0.349966</td>\n",
       "      <td>0.237594</td>\n",
       "      <td>0.153627</td>\n",
       "    </tr>\n",
       "    <tr>\n",
       "      <th>tBodyAcc-mean()-Y</th>\n",
       "      <td>-0.0202942</td>\n",
       "      <td>-0.0164106</td>\n",
       "      <td>-0.0194672</td>\n",
       "      <td>-0.0262006</td>\n",
       "      <td>-0.0165697</td>\n",
       "      <td>-0.0100979</td>\n",
       "      <td>-0.0196408</td>\n",
       "      <td>-0.0304883</td>\n",
       "      <td>-0.0217507</td>\n",
       "      <td>-0.0099603</td>\n",
       "      <td>...</td>\n",
       "      <td>-0.0527017</td>\n",
       "      <td>-0.0237993</td>\n",
       "      <td>-0.0215959</td>\n",
       "      <td>-0.0469079</td>\n",
       "      <td>-0.0336426</td>\n",
       "      <td>-0.0533913</td>\n",
       "      <td>-0.039214</td>\n",
       "      <td>0.0300774</td>\n",
       "      <td>0.0184669</td>\n",
       "      <td>-0.0184365</td>\n",
       "    </tr>\n",
       "    <tr>\n",
       "      <th>tBodyAcc-mean()-Z</th>\n",
       "      <td>-0.132905</td>\n",
       "      <td>-0.12352</td>\n",
       "      <td>-0.113462</td>\n",
       "      <td>-0.123283</td>\n",
       "      <td>-0.115362</td>\n",
       "      <td>-0.105137</td>\n",
       "      <td>-0.110022</td>\n",
       "      <td>-0.12536</td>\n",
       "      <td>-0.120751</td>\n",
       "      <td>-0.106065</td>\n",
       "      <td>...</td>\n",
       "      <td>-0.155684</td>\n",
       "      <td>-0.119695</td>\n",
       "      <td>-0.0705496</td>\n",
       "      <td>-0.0693382</td>\n",
       "      <td>-0.105949</td>\n",
       "      <td>-0.0991087</td>\n",
       "      <td>-0.105915</td>\n",
       "      <td>-0.115788</td>\n",
       "      <td>-0.0964989</td>\n",
       "      <td>-0.137018</td>\n",
       "    </tr>\n",
       "    <tr>\n",
       "      <th>tBodyAcc-std()-X</th>\n",
       "      <td>-0.995279</td>\n",
       "      <td>-0.998245</td>\n",
       "      <td>-0.99538</td>\n",
       "      <td>-0.996091</td>\n",
       "      <td>-0.998139</td>\n",
       "      <td>-0.997335</td>\n",
       "      <td>-0.996921</td>\n",
       "      <td>-0.996559</td>\n",
       "      <td>-0.997328</td>\n",
       "      <td>-0.994803</td>\n",
       "      <td>...</td>\n",
       "      <td>-0.343078</td>\n",
       "      <td>-0.336548</td>\n",
       "      <td>-0.323426</td>\n",
       "      <td>-0.348686</td>\n",
       "      <td>-0.354841</td>\n",
       "      <td>-0.287866</td>\n",
       "      <td>-0.305388</td>\n",
       "      <td>-0.329638</td>\n",
       "      <td>-0.323114</td>\n",
       "      <td>-0.330046</td>\n",
       "    </tr>\n",
       "    <tr>\n",
       "      <th>tBodyAcc-std()-Y</th>\n",
       "      <td>-0.983111</td>\n",
       "      <td>-0.9753</td>\n",
       "      <td>-0.967187</td>\n",
       "      <td>-0.983403</td>\n",
       "      <td>-0.980817</td>\n",
       "      <td>-0.990487</td>\n",
       "      <td>-0.967186</td>\n",
       "      <td>-0.966728</td>\n",
       "      <td>-0.961245</td>\n",
       "      <td>-0.972758</td>\n",
       "      <td>...</td>\n",
       "      <td>-0.15125</td>\n",
       "      <td>-0.183307</td>\n",
       "      <td>-0.118042</td>\n",
       "      <td>0.018057</td>\n",
       "      <td>-0.0925043</td>\n",
       "      <td>-0.140589</td>\n",
       "      <td>0.0281477</td>\n",
       "      <td>-0.0421429</td>\n",
       "      <td>-0.229775</td>\n",
       "      <td>-0.195253</td>\n",
       "    </tr>\n",
       "  </tbody>\n",
       "</table>\n",
       "<p>5 rows × 10299 columns</p>\n",
       "</div>"
      ],
      "text/plain": [
       "                       0          1          2          3          4      \\\n",
       "tBodyAcc-mean()-X   0.288585   0.278419   0.279653   0.279174   0.276629   \n",
       "tBodyAcc-mean()-Y -0.0202942 -0.0164106 -0.0194672 -0.0262006 -0.0165697   \n",
       "tBodyAcc-mean()-Z  -0.132905   -0.12352  -0.113462  -0.123283  -0.115362   \n",
       "tBodyAcc-std()-X   -0.995279  -0.998245   -0.99538  -0.996091  -0.998139   \n",
       "tBodyAcc-std()-Y   -0.983111    -0.9753  -0.967187  -0.983403  -0.980817   \n",
       "\n",
       "                       5          6          7          8          9      ...  \\\n",
       "tBodyAcc-mean()-X   0.277199   0.279454   0.277432   0.277293   0.280586  ...   \n",
       "tBodyAcc-mean()-Y -0.0100979 -0.0196408 -0.0304883 -0.0217507 -0.0099603  ...   \n",
       "tBodyAcc-mean()-Z  -0.105137  -0.110022   -0.12536  -0.120751  -0.106065  ...   \n",
       "tBodyAcc-std()-X   -0.997335  -0.996921  -0.996559  -0.997328  -0.994803  ...   \n",
       "tBodyAcc-std()-Y   -0.990487  -0.967186  -0.966728  -0.961245  -0.972758  ...   \n",
       "\n",
       "                       10289      10290      10291      10292      10293  \\\n",
       "tBodyAcc-mean()-X   0.305631   0.321443   0.267413   0.147146   0.192275   \n",
       "tBodyAcc-mean()-Y -0.0527017 -0.0237993 -0.0215959 -0.0469079 -0.0336426   \n",
       "tBodyAcc-mean()-Z  -0.155684  -0.119695 -0.0705496 -0.0693382  -0.105949   \n",
       "tBodyAcc-std()-X   -0.343078  -0.336548  -0.323426  -0.348686  -0.354841   \n",
       "tBodyAcc-std()-Y    -0.15125  -0.183307  -0.118042   0.018057 -0.0925043   \n",
       "\n",
       "                       10294      10295      10296      10297      10298  \n",
       "tBodyAcc-mean()-X   0.310155   0.363385   0.349966   0.237594   0.153627  \n",
       "tBodyAcc-mean()-Y -0.0533913  -0.039214  0.0300774  0.0184669 -0.0184365  \n",
       "tBodyAcc-mean()-Z -0.0991087  -0.105915  -0.115788 -0.0964989  -0.137018  \n",
       "tBodyAcc-std()-X   -0.287866  -0.305388  -0.329638  -0.323114  -0.330046  \n",
       "tBodyAcc-std()-Y   -0.140589  0.0281477 -0.0421429  -0.229775  -0.195253  \n",
       "\n",
       "[5 rows x 10299 columns]"
      ]
     },
     "execution_count": 4,
     "metadata": {},
     "output_type": "execute_result"
    }
   ],
   "source": [
    "df.T.head()"
   ]
  },
  {
   "cell_type": "code",
   "execution_count": 5,
   "metadata": {},
   "outputs": [
    {
     "data": {
      "text/plain": [
       "float64    561\n",
       "object       1\n",
       "dtype: int64"
      ]
     },
     "execution_count": 5,
     "metadata": {},
     "output_type": "execute_result"
    }
   ],
   "source": [
    "df.dtypes.value_counts()"
   ]
  },
  {
   "cell_type": "markdown",
   "metadata": {},
   "source": [
    "###### Hence we have all the columns as float and the activity column is the only categorical column which is our target variable."
   ]
  },
  {
   "cell_type": "code",
   "execution_count": 6,
   "metadata": {},
   "outputs": [
    {
     "data": {
      "text/html": [
       "<div>\n",
       "<style scoped>\n",
       "    .dataframe tbody tr th:only-of-type {\n",
       "        vertical-align: middle;\n",
       "    }\n",
       "\n",
       "    .dataframe tbody tr th {\n",
       "        vertical-align: top;\n",
       "    }\n",
       "\n",
       "    .dataframe thead th {\n",
       "        text-align: right;\n",
       "    }\n",
       "</style>\n",
       "<table border=\"1\" class=\"dataframe\">\n",
       "  <thead>\n",
       "    <tr style=\"text-align: right;\">\n",
       "      <th></th>\n",
       "      <th>Activity</th>\n",
       "    </tr>\n",
       "    <tr>\n",
       "      <th>Activity</th>\n",
       "      <th></th>\n",
       "    </tr>\n",
       "  </thead>\n",
       "  <tbody>\n",
       "    <tr>\n",
       "      <th>LAYING</th>\n",
       "      <td>1944</td>\n",
       "    </tr>\n",
       "    <tr>\n",
       "      <th>SITTING</th>\n",
       "      <td>1777</td>\n",
       "    </tr>\n",
       "    <tr>\n",
       "      <th>STANDING</th>\n",
       "      <td>1906</td>\n",
       "    </tr>\n",
       "    <tr>\n",
       "      <th>WALKING</th>\n",
       "      <td>1722</td>\n",
       "    </tr>\n",
       "    <tr>\n",
       "      <th>WALKING_DOWNSTAIRS</th>\n",
       "      <td>1406</td>\n",
       "    </tr>\n",
       "    <tr>\n",
       "      <th>WALKING_UPSTAIRS</th>\n",
       "      <td>1544</td>\n",
       "    </tr>\n",
       "  </tbody>\n",
       "</table>\n",
       "</div>"
      ],
      "text/plain": [
       "                    Activity\n",
       "Activity                    \n",
       "LAYING                  1944\n",
       "SITTING                 1777\n",
       "STANDING                1906\n",
       "WALKING                 1722\n",
       "WALKING_DOWNSTAIRS      1406\n",
       "WALKING_UPSTAIRS        1544"
      ]
     },
     "execution_count": 6,
     "metadata": {},
     "output_type": "execute_result"
    }
   ],
   "source": [
    "##Breakdown\n",
    "df.groupby('Activity').agg({'Activity': 'count'})"
   ]
  },
  {
   "cell_type": "markdown",
   "metadata": {},
   "source": [
    "##### Now we check if some feature scaling is required in the floating values apart from the target variable. After looking at the values we note that the values are all scaled between -1 to 1 as those are the maximum and the minimum values. Hence the values are seem scaled."
   ]
  },
  {
   "cell_type": "code",
   "execution_count": 7,
   "metadata": {},
   "outputs": [
    {
     "name": "stdout",
     "output_type": "stream",
     "text": [
      "1.0    561\n",
      "dtype: int64\n",
      "--------------------------------------------------------------------------------\n",
      "-1.0    561\n",
      "dtype: int64\n"
     ]
    }
   ],
   "source": [
    "print(df.iloc[:,:-1].max().value_counts())\n",
    "print('-'*80)\n",
    "print(df.iloc[:,:-1].min().value_counts())"
   ]
  },
  {
   "cell_type": "markdown",
   "metadata": {},
   "source": [
    "### Encoding the Activity column"
   ]
  },
  {
   "cell_type": "code",
   "execution_count": 8,
   "metadata": {},
   "outputs": [],
   "source": [
    "from sklearn.preprocessing import LabelEncoder\n",
    "\n",
    "le = LabelEncoder()\n",
    "df['Activity'] = le.fit_transform(df['Activity'])"
   ]
  },
  {
   "cell_type": "code",
   "execution_count": 9,
   "metadata": {},
   "outputs": [
    {
     "data": {
      "text/plain": [
       "7514     2\n",
       "957      4\n",
       "9427     1\n",
       "3866     0\n",
       "10245    4\n",
       "Name: Activity, dtype: int32"
      ]
     },
     "execution_count": 9,
     "metadata": {},
     "output_type": "execute_result"
    }
   ],
   "source": [
    "# We check some random values to see if it has successfully implemented.\n",
    "df['Activity'].sample(5)"
   ]
  },
  {
   "cell_type": "markdown",
   "metadata": {},
   "source": [
    "###### We calculate the correlations between different features and look for multicollinearity."
   ]
  },
  {
   "cell_type": "code",
   "execution_count": 10,
   "metadata": {},
   "outputs": [],
   "source": [
    "feature_cols = df.columns[:-1] ##Gives an index hashable array\n",
    "correlation = df[feature_cols].corr()"
   ]
  },
  {
   "cell_type": "markdown",
   "metadata": {},
   "source": [
    "* Since there are many columns we can cut down the correlation data frame from the diagonal as the values are the same before and after the diagonal"
   ]
  },
  {
   "cell_type": "code",
   "execution_count": 11,
   "metadata": {},
   "outputs": [
    {
     "data": {
      "text/plain": [
       "(array([  0,   1,   1, ..., 560, 560, 560], dtype=int64),\n",
       " array([  0,   0,   1, ..., 558, 559, 560], dtype=int64))"
      ]
     },
     "execution_count": 11,
     "metadata": {},
     "output_type": "execute_result"
    }
   ],
   "source": [
    "trill = np.tril_indices_from(correlation) ##Gives the indices that shall be converted to null values\n",
    "trill"
   ]
  },
  {
   "cell_type": "code",
   "execution_count": 12,
   "metadata": {},
   "outputs": [],
   "source": [
    "for c in zip(*trill):\n",
    "    correlation.iloc[c[0],c[1]] = np.NaN\n",
    "    \n",
    "# Stack the data and convert to a data frame so that we do not have huge number of columns!!\n",
    "correlation = correlation.stack().to_frame().reset_index()"
   ]
  },
  {
   "cell_type": "code",
   "execution_count": 13,
   "metadata": {},
   "outputs": [
    {
     "data": {
      "text/html": [
       "<div>\n",
       "<style scoped>\n",
       "    .dataframe tbody tr th:only-of-type {\n",
       "        vertical-align: middle;\n",
       "    }\n",
       "\n",
       "    .dataframe tbody tr th {\n",
       "        vertical-align: top;\n",
       "    }\n",
       "\n",
       "    .dataframe thead th {\n",
       "        text-align: right;\n",
       "    }\n",
       "</style>\n",
       "<table border=\"1\" class=\"dataframe\">\n",
       "  <thead>\n",
       "    <tr style=\"text-align: right;\">\n",
       "      <th></th>\n",
       "      <th>feature-1</th>\n",
       "      <th>feature-2</th>\n",
       "      <th>correlations</th>\n",
       "    </tr>\n",
       "  </thead>\n",
       "  <tbody>\n",
       "    <tr>\n",
       "      <th>0</th>\n",
       "      <td>tBodyAcc-mean()-X</td>\n",
       "      <td>tBodyAcc-mean()-Y</td>\n",
       "      <td>0.128037</td>\n",
       "    </tr>\n",
       "    <tr>\n",
       "      <th>1</th>\n",
       "      <td>tBodyAcc-mean()-X</td>\n",
       "      <td>tBodyAcc-mean()-Z</td>\n",
       "      <td>-0.230302</td>\n",
       "    </tr>\n",
       "    <tr>\n",
       "      <th>2</th>\n",
       "      <td>tBodyAcc-mean()-X</td>\n",
       "      <td>tBodyAcc-std()-X</td>\n",
       "      <td>0.004590</td>\n",
       "    </tr>\n",
       "    <tr>\n",
       "      <th>3</th>\n",
       "      <td>tBodyAcc-mean()-X</td>\n",
       "      <td>tBodyAcc-std()-Y</td>\n",
       "      <td>-0.016785</td>\n",
       "    </tr>\n",
       "    <tr>\n",
       "      <th>4</th>\n",
       "      <td>tBodyAcc-mean()-X</td>\n",
       "      <td>tBodyAcc-std()-Z</td>\n",
       "      <td>-0.036071</td>\n",
       "    </tr>\n",
       "    <tr>\n",
       "      <th>...</th>\n",
       "      <td>...</td>\n",
       "      <td>...</td>\n",
       "      <td>...</td>\n",
       "    </tr>\n",
       "    <tr>\n",
       "      <th>157075</th>\n",
       "      <td>angle(tBodyGyroJerkMean,gravityMean)</td>\n",
       "      <td>angle(Y,gravityMean)</td>\n",
       "      <td>-0.004582</td>\n",
       "    </tr>\n",
       "    <tr>\n",
       "      <th>157076</th>\n",
       "      <td>angle(tBodyGyroJerkMean,gravityMean)</td>\n",
       "      <td>angle(Z,gravityMean)</td>\n",
       "      <td>-0.012549</td>\n",
       "    </tr>\n",
       "    <tr>\n",
       "      <th>157077</th>\n",
       "      <td>angle(X,gravityMean)</td>\n",
       "      <td>angle(Y,gravityMean)</td>\n",
       "      <td>-0.748249</td>\n",
       "    </tr>\n",
       "    <tr>\n",
       "      <th>157078</th>\n",
       "      <td>angle(X,gravityMean)</td>\n",
       "      <td>angle(Z,gravityMean)</td>\n",
       "      <td>-0.635231</td>\n",
       "    </tr>\n",
       "    <tr>\n",
       "      <th>157079</th>\n",
       "      <td>angle(Y,gravityMean)</td>\n",
       "      <td>angle(Z,gravityMean)</td>\n",
       "      <td>0.545614</td>\n",
       "    </tr>\n",
       "  </tbody>\n",
       "</table>\n",
       "<p>157080 rows × 3 columns</p>\n",
       "</div>"
      ],
      "text/plain": [
       "                                   feature-1             feature-2  \\\n",
       "0                          tBodyAcc-mean()-X     tBodyAcc-mean()-Y   \n",
       "1                          tBodyAcc-mean()-X     tBodyAcc-mean()-Z   \n",
       "2                          tBodyAcc-mean()-X      tBodyAcc-std()-X   \n",
       "3                          tBodyAcc-mean()-X      tBodyAcc-std()-Y   \n",
       "4                          tBodyAcc-mean()-X      tBodyAcc-std()-Z   \n",
       "...                                      ...                   ...   \n",
       "157075  angle(tBodyGyroJerkMean,gravityMean)  angle(Y,gravityMean)   \n",
       "157076  angle(tBodyGyroJerkMean,gravityMean)  angle(Z,gravityMean)   \n",
       "157077                  angle(X,gravityMean)  angle(Y,gravityMean)   \n",
       "157078                  angle(X,gravityMean)  angle(Z,gravityMean)   \n",
       "157079                  angle(Y,gravityMean)  angle(Z,gravityMean)   \n",
       "\n",
       "        correlations  \n",
       "0           0.128037  \n",
       "1          -0.230302  \n",
       "2           0.004590  \n",
       "3          -0.016785  \n",
       "4          -0.036071  \n",
       "...              ...  \n",
       "157075     -0.004582  \n",
       "157076     -0.012549  \n",
       "157077     -0.748249  \n",
       "157078     -0.635231  \n",
       "157079      0.545614  \n",
       "\n",
       "[157080 rows x 3 columns]"
      ]
     },
     "execution_count": 13,
     "metadata": {},
     "output_type": "execute_result"
    }
   ],
   "source": [
    "corr_values = correlation.rename(columns={'level_0':'feature-1','level_1':'feature-2',0:'correlations'})\n",
    "corr_values"
   ]
  },
  {
   "cell_type": "markdown",
   "metadata": {},
   "source": [
    "#### Now we create a histogram after computing the absolute values of the correlation."
   ]
  },
  {
   "cell_type": "code",
   "execution_count": 14,
   "metadata": {},
   "outputs": [],
   "source": [
    "corr_values['abs_Corr'] = np.absolute(corr_values.correlations)"
   ]
  },
  {
   "cell_type": "code",
   "execution_count": 15,
   "metadata": {},
   "outputs": [
    {
     "data": {
      "text/html": [
       "<div>\n",
       "<style scoped>\n",
       "    .dataframe tbody tr th:only-of-type {\n",
       "        vertical-align: middle;\n",
       "    }\n",
       "\n",
       "    .dataframe tbody tr th {\n",
       "        vertical-align: top;\n",
       "    }\n",
       "\n",
       "    .dataframe thead th {\n",
       "        text-align: right;\n",
       "    }\n",
       "</style>\n",
       "<table border=\"1\" class=\"dataframe\">\n",
       "  <thead>\n",
       "    <tr style=\"text-align: right;\">\n",
       "      <th></th>\n",
       "      <th>feature-1</th>\n",
       "      <th>feature-2</th>\n",
       "      <th>correlations</th>\n",
       "      <th>abs_Corr</th>\n",
       "    </tr>\n",
       "  </thead>\n",
       "  <tbody>\n",
       "    <tr>\n",
       "      <th>0</th>\n",
       "      <td>tBodyAcc-mean()-X</td>\n",
       "      <td>tBodyAcc-mean()-Y</td>\n",
       "      <td>0.128037</td>\n",
       "      <td>0.128037</td>\n",
       "    </tr>\n",
       "    <tr>\n",
       "      <th>1</th>\n",
       "      <td>tBodyAcc-mean()-X</td>\n",
       "      <td>tBodyAcc-mean()-Z</td>\n",
       "      <td>-0.230302</td>\n",
       "      <td>0.230302</td>\n",
       "    </tr>\n",
       "    <tr>\n",
       "      <th>2</th>\n",
       "      <td>tBodyAcc-mean()-X</td>\n",
       "      <td>tBodyAcc-std()-X</td>\n",
       "      <td>0.004590</td>\n",
       "      <td>0.004590</td>\n",
       "    </tr>\n",
       "  </tbody>\n",
       "</table>\n",
       "</div>"
      ],
      "text/plain": [
       "           feature-1          feature-2  correlations  abs_Corr\n",
       "0  tBodyAcc-mean()-X  tBodyAcc-mean()-Y      0.128037  0.128037\n",
       "1  tBodyAcc-mean()-X  tBodyAcc-mean()-Z     -0.230302  0.230302\n",
       "2  tBodyAcc-mean()-X   tBodyAcc-std()-X      0.004590  0.004590"
      ]
     },
     "execution_count": 15,
     "metadata": {},
     "output_type": "execute_result"
    }
   ],
   "source": [
    "corr_values.head(3) #Hence we have the absolute values."
   ]
  },
  {
   "cell_type": "code",
   "execution_count": 16,
   "metadata": {},
   "outputs": [
    {
     "data": {
      "image/png": "[encoded data removed]",
      "text/plain": [
       "<Figure size 720x720 with 1 Axes>"
      ]
     },
     "metadata": {},
     "output_type": "display_data"
    }
   ],
   "source": [
    "##Plot\n",
    "sns.set_context('talk')\n",
    "sns.set_style('white')\n",
    "plt.figure(figsize=(10,10))\n",
    "plt.hist(corr_values['abs_Corr'], bins=50)\n",
    "plt.xlabel('Correlation values')\n",
    "plt.ylabel('Frequency')\n",
    "plt.show()"
   ]
  },
  {
   "cell_type": "code",
   "execution_count": 17,
   "metadata": {},
   "outputs": [],
   "source": [
    "highest_corr = corr_values.sort_values(by = ['abs_Corr'],ascending=False)"
   ]
  },
  {
   "cell_type": "code",
   "execution_count": 18,
   "metadata": {},
   "outputs": [
    {
     "data": {
      "text/html": [
       "<div>\n",
       "<style scoped>\n",
       "    .dataframe tbody tr th:only-of-type {\n",
       "        vertical-align: middle;\n",
       "    }\n",
       "\n",
       "    .dataframe tbody tr th {\n",
       "        vertical-align: top;\n",
       "    }\n",
       "\n",
       "    .dataframe thead th {\n",
       "        text-align: right;\n",
       "    }\n",
       "</style>\n",
       "<table border=\"1\" class=\"dataframe\">\n",
       "  <thead>\n",
       "    <tr style=\"text-align: right;\">\n",
       "      <th></th>\n",
       "      <th>feature-1</th>\n",
       "      <th>feature-2</th>\n",
       "      <th>correlations</th>\n",
       "      <th>abs_Corr</th>\n",
       "    </tr>\n",
       "  </thead>\n",
       "  <tbody>\n",
       "    <tr>\n",
       "      <th>93902</th>\n",
       "      <td>tBodyAccMag-sma()</td>\n",
       "      <td>tGravityAccMag-sma()</td>\n",
       "      <td>1.000000</td>\n",
       "      <td>1.000000</td>\n",
       "    </tr>\n",
       "    <tr>\n",
       "      <th>96017</th>\n",
       "      <td>tBodyAccMag-arCoeff()3</td>\n",
       "      <td>tGravityAccMag-arCoeff()3</td>\n",
       "      <td>1.000000</td>\n",
       "      <td>1.000000</td>\n",
       "    </tr>\n",
       "    <tr>\n",
       "      <th>94964</th>\n",
       "      <td>tBodyAccMag-entropy()</td>\n",
       "      <td>tGravityAccMag-entropy()</td>\n",
       "      <td>1.000000</td>\n",
       "      <td>1.000000</td>\n",
       "    </tr>\n",
       "    <tr>\n",
       "      <th>96706</th>\n",
       "      <td>tGravityAccMag-mean()</td>\n",
       "      <td>tGravityAccMag-sma()</td>\n",
       "      <td>1.000000</td>\n",
       "      <td>1.000000</td>\n",
       "    </tr>\n",
       "    <tr>\n",
       "      <th>93546</th>\n",
       "      <td>tBodyAccMag-min()</td>\n",
       "      <td>tGravityAccMag-min()</td>\n",
       "      <td>1.000000</td>\n",
       "      <td>1.000000</td>\n",
       "    </tr>\n",
       "    <tr>\n",
       "      <th>...</th>\n",
       "      <td>...</td>\n",
       "      <td>...</td>\n",
       "      <td>...</td>\n",
       "      <td>...</td>\n",
       "    </tr>\n",
       "    <tr>\n",
       "      <th>9895</th>\n",
       "      <td>tBodyAcc-energy()-Y</td>\n",
       "      <td>fBodyBodyGyroMag-std()</td>\n",
       "      <td>0.800024</td>\n",
       "      <td>0.800024</td>\n",
       "    </tr>\n",
       "    <tr>\n",
       "      <th>50659</th>\n",
       "      <td>tBodyAccJerk-iqr()-X</td>\n",
       "      <td>tBodyGyroJerk-max()-Y</td>\n",
       "      <td>0.800019</td>\n",
       "      <td>0.800019</td>\n",
       "    </tr>\n",
       "    <tr>\n",
       "      <th>115040</th>\n",
       "      <td>fBodyAcc-std()-Z</td>\n",
       "      <td>fBodyGyro-std()-X</td>\n",
       "      <td>0.800002</td>\n",
       "      <td>0.800002</td>\n",
       "    </tr>\n",
       "    <tr>\n",
       "      <th>93597</th>\n",
       "      <td>tBodyAccMag-min()</td>\n",
       "      <td>fBodyAcc-std()-X</td>\n",
       "      <td>0.800001</td>\n",
       "      <td>0.800001</td>\n",
       "    </tr>\n",
       "    <tr>\n",
       "      <th>98134</th>\n",
       "      <td>tGravityAccMag-min()</td>\n",
       "      <td>fBodyAcc-std()-X</td>\n",
       "      <td>0.800001</td>\n",
       "      <td>0.800001</td>\n",
       "    </tr>\n",
       "  </tbody>\n",
       "</table>\n",
       "<p>22815 rows × 4 columns</p>\n",
       "</div>"
      ],
      "text/plain": [
       "                     feature-1                  feature-2  correlations  \\\n",
       "93902        tBodyAccMag-sma()       tGravityAccMag-sma()      1.000000   \n",
       "96017   tBodyAccMag-arCoeff()3  tGravityAccMag-arCoeff()3      1.000000   \n",
       "94964    tBodyAccMag-entropy()   tGravityAccMag-entropy()      1.000000   \n",
       "96706    tGravityAccMag-mean()       tGravityAccMag-sma()      1.000000   \n",
       "93546        tBodyAccMag-min()       tGravityAccMag-min()      1.000000   \n",
       "...                        ...                        ...           ...   \n",
       "9895       tBodyAcc-energy()-Y     fBodyBodyGyroMag-std()      0.800024   \n",
       "50659     tBodyAccJerk-iqr()-X      tBodyGyroJerk-max()-Y      0.800019   \n",
       "115040        fBodyAcc-std()-Z          fBodyGyro-std()-X      0.800002   \n",
       "93597        tBodyAccMag-min()           fBodyAcc-std()-X      0.800001   \n",
       "98134     tGravityAccMag-min()           fBodyAcc-std()-X      0.800001   \n",
       "\n",
       "        abs_Corr  \n",
       "93902   1.000000  \n",
       "96017   1.000000  \n",
       "94964   1.000000  \n",
       "96706   1.000000  \n",
       "93546   1.000000  \n",
       "...          ...  \n",
       "9895    0.800024  \n",
       "50659   0.800019  \n",
       "115040  0.800002  \n",
       "93597   0.800001  \n",
       "98134   0.800001  \n",
       "\n",
       "[22815 rows x 4 columns]"
      ]
     },
     "execution_count": 18,
     "metadata": {},
     "output_type": "execute_result"
    }
   ],
   "source": [
    "## Hence we have the highest correlated values.\n",
    "highest_corr[highest_corr.abs_Corr > 0.8]"
   ]
  },
  {
   "cell_type": "markdown",
   "metadata": {},
   "source": [
    "### Now we split the data into training and test sets by the method `StratifiedShuffleSplit` in order to maintain the ratio of the classes in both the training as well as the test sets. \n",
    "\n",
    "#### Stratified sampling in statistics refers to extracting random sample from each stratum in a number proportional to the stratum's size when compared to the population. These subsets of the strata are then pooled to form a random sample."
   ]
  },
  {
   "cell_type": "code",
   "execution_count": 19,
   "metadata": {},
   "outputs": [],
   "source": [
    "from sklearn.model_selection import StratifiedShuffleSplit\n",
    "\n",
    "stratified_split_var = StratifiedShuffleSplit(n_splits=1,test_size=0.3,random_state=42)\n",
    "#It gives the indexes; random state is used to ensure that the split indexes remain the same whenever 42 is inputted\n",
    "\n",
    "train_index,test_index = next(stratified_split_var.split(df[feature_cols],df['Activity']))"
   ]
  },
  {
   "cell_type": "code",
   "execution_count": 20,
   "metadata": {},
   "outputs": [],
   "source": [
    "## Now we assign the indices to the training and the test sets to retrieve from the data frame\n",
    "\n",
    "x_train = df.loc[train_index,feature_cols]\n",
    "y_train = df.loc[train_index,'Activity']\n",
    "\n",
    "x_test = df.loc[test_index,feature_cols]\n",
    "y_test = df.loc[test_index,'Activity']\n"
   ]
  },
  {
   "cell_type": "code",
   "execution_count": 21,
   "metadata": {},
   "outputs": [
    {
     "name": "stdout",
     "output_type": "stream",
     "text": [
      "0    0.188792\n",
      "2    0.185046\n",
      "1    0.172562\n",
      "3    0.167152\n",
      "5    0.149951\n",
      "4    0.136496\n",
      "Name: Activity, dtype: float64\n",
      "----------------------------------------------------------------------------------------------------\n",
      "0    0.188673\n",
      "2    0.185113\n",
      "1    0.172492\n",
      "3    0.167314\n",
      "5    0.149838\n",
      "4    0.136570\n",
      "Name: Activity, dtype: float64\n"
     ]
    }
   ],
   "source": [
    "print(y_train.value_counts(normalize=True))\n",
    "print('-'*100)\n",
    "print(y_test.value_counts(normalize=True))"
   ]
  },
  {
   "cell_type": "markdown",
   "metadata": {},
   "source": [
    "`Here we observe that it is a multi class model` \n",
    "###### We fit the logistic regression model without any regularizations initially and check its effects. The solver will have 'liblinear' as the parameter as we look for fitting a model using one vs all algorithm - used in the cases of Multi class classification models where the idea is that each of the classes are taken versus all other classes clubbed together."
   ]
  },
  {
   "cell_type": "code",
   "execution_count": 22,
   "metadata": {},
   "outputs": [
    {
     "data": {
      "text/plain": [
       "LogisticRegression(solver='liblinear')"
      ]
     },
     "execution_count": 22,
     "metadata": {},
     "output_type": "execute_result"
    }
   ],
   "source": [
    "from sklearn.linear_model import LogisticRegression\n",
    "\n",
    "lor = LogisticRegression(solver = 'liblinear') \n",
    "#The liblinear solver supports both L1 and L2 regularization, with a dual formulation only for the L2 penalty\n",
    "lor.fit(x_train,y_train)"
   ]
  },
  {
   "cell_type": "markdown",
   "metadata": {},
   "source": [
    "### Now we apply the regularized logistic regressions by invoking the L1 and the L2 penalties."
   ]
  },
  {
   "cell_type": "code",
   "execution_count": 23,
   "metadata": {},
   "outputs": [
    {
     "data": {
      "text/plain": [
       "LogisticRegressionCV(cv=4, penalty='l1', solver='liblinear')"
      ]
     },
     "execution_count": 23,
     "metadata": {},
     "output_type": "execute_result"
    }
   ],
   "source": [
    "from sklearn.linear_model import LogisticRegressionCV\n",
    "\n",
    "# L1 regularized logistic regression\n",
    "lor_l1 = LogisticRegressionCV(Cs=10,cv=4,solver='liblinear',penalty='l1')\n",
    "lor_l1.fit(x_train,y_train)"
   ]
  },
  {
   "cell_type": "code",
   "execution_count": 24,
   "metadata": {},
   "outputs": [
    {
     "data": {
      "text/plain": [
       "LogisticRegressionCV(cv=4, solver='liblinear')"
      ]
     },
     "execution_count": 24,
     "metadata": {},
     "output_type": "execute_result"
    }
   ],
   "source": [
    "# L2 regularized logistic regression\n",
    "lor_l2 = LogisticRegressionCV(Cs=10,cv=4,solver='liblinear',penalty='l2')\n",
    "lor_l2.fit(x_train,y_train)"
   ]
  },
  {
   "cell_type": "markdown",
   "metadata": {},
   "source": [
    "##### Now we compare the coefficients of each of our models with the other."
   ]
  },
  {
   "cell_type": "code",
   "execution_count": 25,
   "metadata": {},
   "outputs": [
    {
     "data": {
      "text/html": [
       "<div>\n",
       "<style scoped>\n",
       "    .dataframe tbody tr th:only-of-type {\n",
       "        vertical-align: middle;\n",
       "    }\n",
       "\n",
       "    .dataframe tbody tr th {\n",
       "        vertical-align: top;\n",
       "    }\n",
       "\n",
       "    .dataframe thead tr th {\n",
       "        text-align: left;\n",
       "    }\n",
       "</style>\n",
       "<table border=\"1\" class=\"dataframe\">\n",
       "  <thead>\n",
       "    <tr>\n",
       "      <th></th>\n",
       "      <th colspan=\"6\" halign=\"left\">lr</th>\n",
       "      <th colspan=\"6\" halign=\"left\">l1</th>\n",
       "      <th colspan=\"6\" halign=\"left\">l2</th>\n",
       "    </tr>\n",
       "    <tr>\n",
       "      <th></th>\n",
       "      <th>0</th>\n",
       "      <th>1</th>\n",
       "      <th>2</th>\n",
       "      <th>3</th>\n",
       "      <th>4</th>\n",
       "      <th>5</th>\n",
       "      <th>0</th>\n",
       "      <th>1</th>\n",
       "      <th>2</th>\n",
       "      <th>3</th>\n",
       "      <th>4</th>\n",
       "      <th>5</th>\n",
       "      <th>0</th>\n",
       "      <th>1</th>\n",
       "      <th>2</th>\n",
       "      <th>3</th>\n",
       "      <th>4</th>\n",
       "      <th>5</th>\n",
       "    </tr>\n",
       "  </thead>\n",
       "  <tbody>\n",
       "    <tr>\n",
       "      <th>0</th>\n",
       "      <td>0.916213</td>\n",
       "      <td>0.640680</td>\n",
       "      <td>1.294292</td>\n",
       "      <td>0.844268</td>\n",
       "      <td>2.150308</td>\n",
       "      <td>0.923039</td>\n",
       "      <td>0.991859</td>\n",
       "      <td>1.000000</td>\n",
       "      <td>1.000000</td>\n",
       "      <td>1.000000</td>\n",
       "      <td>57.117992</td>\n",
       "      <td>1.000000</td>\n",
       "      <td>0.873469</td>\n",
       "      <td>0.259646</td>\n",
       "      <td>1.623519</td>\n",
       "      <td>0.619417</td>\n",
       "      <td>6.234809</td>\n",
       "      <td>1.030206</td>\n",
       "    </tr>\n",
       "    <tr>\n",
       "      <th>1</th>\n",
       "      <td>1.014598</td>\n",
       "      <td>0.817874</td>\n",
       "      <td>1.062784</td>\n",
       "      <td>0.976765</td>\n",
       "      <td>1.114011</td>\n",
       "      <td>0.780990</td>\n",
       "      <td>1.000000</td>\n",
       "      <td>1.000000</td>\n",
       "      <td>1.000000</td>\n",
       "      <td>1.000000</td>\n",
       "      <td>1.000000</td>\n",
       "      <td>1.000000</td>\n",
       "      <td>1.029769</td>\n",
       "      <td>0.320714</td>\n",
       "      <td>1.112795</td>\n",
       "      <td>0.857337</td>\n",
       "      <td>1.204927</td>\n",
       "      <td>0.591680</td>\n",
       "    </tr>\n",
       "    <tr>\n",
       "      <th>2</th>\n",
       "      <td>1.030647</td>\n",
       "      <td>1.065236</td>\n",
       "      <td>1.278783</td>\n",
       "      <td>1.022590</td>\n",
       "      <td>1.060754</td>\n",
       "      <td>0.668629</td>\n",
       "      <td>1.000000</td>\n",
       "      <td>1.000000</td>\n",
       "      <td>1.000000</td>\n",
       "      <td>1.000000</td>\n",
       "      <td>1.000000</td>\n",
       "      <td>1.000000</td>\n",
       "      <td>1.041416</td>\n",
       "      <td>0.241716</td>\n",
       "      <td>1.591011</td>\n",
       "      <td>1.144016</td>\n",
       "      <td>1.009820</td>\n",
       "      <td>0.384892</td>\n",
       "    </tr>\n",
       "    <tr>\n",
       "      <th>3</th>\n",
       "      <td>1.004601</td>\n",
       "      <td>0.480003</td>\n",
       "      <td>0.702766</td>\n",
       "      <td>0.495926</td>\n",
       "      <td>1.306019</td>\n",
       "      <td>2.005955</td>\n",
       "      <td>1.000000</td>\n",
       "      <td>0.187868</td>\n",
       "      <td>0.645083</td>\n",
       "      <td>0.452310</td>\n",
       "      <td>1.000000</td>\n",
       "      <td>8.866214</td>\n",
       "      <td>1.019275</td>\n",
       "      <td>0.077093</td>\n",
       "      <td>0.647270</td>\n",
       "      <td>0.167155</td>\n",
       "      <td>1.321385</td>\n",
       "      <td>5.815080</td>\n",
       "    </tr>\n",
       "    <tr>\n",
       "      <th>4</th>\n",
       "      <td>0.955609</td>\n",
       "      <td>0.966422</td>\n",
       "      <td>0.636450</td>\n",
       "      <td>1.297250</td>\n",
       "      <td>0.596400</td>\n",
       "      <td>1.112097</td>\n",
       "      <td>1.000000</td>\n",
       "      <td>1.000000</td>\n",
       "      <td>0.266008</td>\n",
       "      <td>1.000000</td>\n",
       "      <td>0.220389</td>\n",
       "      <td>1.000000</td>\n",
       "      <td>0.964653</td>\n",
       "      <td>1.831480</td>\n",
       "      <td>0.513822</td>\n",
       "      <td>2.466596</td>\n",
       "      <td>0.377313</td>\n",
       "      <td>1.075302</td>\n",
       "    </tr>\n",
       "    <tr>\n",
       "      <th>...</th>\n",
       "      <td>...</td>\n",
       "      <td>...</td>\n",
       "      <td>...</td>\n",
       "      <td>...</td>\n",
       "      <td>...</td>\n",
       "      <td>...</td>\n",
       "      <td>...</td>\n",
       "      <td>...</td>\n",
       "      <td>...</td>\n",
       "      <td>...</td>\n",
       "      <td>...</td>\n",
       "      <td>...</td>\n",
       "      <td>...</td>\n",
       "      <td>...</td>\n",
       "      <td>...</td>\n",
       "      <td>...</td>\n",
       "      <td>...</td>\n",
       "      <td>...</td>\n",
       "    </tr>\n",
       "    <tr>\n",
       "      <th>556</th>\n",
       "      <td>0.978111</td>\n",
       "      <td>0.517126</td>\n",
       "      <td>1.734346</td>\n",
       "      <td>0.790625</td>\n",
       "      <td>1.469877</td>\n",
       "      <td>0.703638</td>\n",
       "      <td>1.000000</td>\n",
       "      <td>0.464770</td>\n",
       "      <td>1.625320</td>\n",
       "      <td>0.869849</td>\n",
       "      <td>1.642019</td>\n",
       "      <td>0.483257</td>\n",
       "      <td>0.867077</td>\n",
       "      <td>0.440379</td>\n",
       "      <td>1.793898</td>\n",
       "      <td>0.531501</td>\n",
       "      <td>1.901371</td>\n",
       "      <td>0.535605</td>\n",
       "    </tr>\n",
       "    <tr>\n",
       "      <th>557</th>\n",
       "      <td>1.060196</td>\n",
       "      <td>0.781165</td>\n",
       "      <td>1.308649</td>\n",
       "      <td>0.850432</td>\n",
       "      <td>0.854189</td>\n",
       "      <td>1.190237</td>\n",
       "      <td>1.000000</td>\n",
       "      <td>0.510375</td>\n",
       "      <td>2.376034</td>\n",
       "      <td>0.923537</td>\n",
       "      <td>0.973334</td>\n",
       "      <td>1.456430</td>\n",
       "      <td>1.126537</td>\n",
       "      <td>0.507954</td>\n",
       "      <td>1.578699</td>\n",
       "      <td>0.614838</td>\n",
       "      <td>0.862421</td>\n",
       "      <td>1.423487</td>\n",
       "    </tr>\n",
       "    <tr>\n",
       "      <th>558</th>\n",
       "      <td>4.948600</td>\n",
       "      <td>0.084324</td>\n",
       "      <td>0.425448</td>\n",
       "      <td>0.731146</td>\n",
       "      <td>0.490321</td>\n",
       "      <td>1.516358</td>\n",
       "      <td>116.129980</td>\n",
       "      <td>0.000277</td>\n",
       "      <td>1.000000</td>\n",
       "      <td>1.000000</td>\n",
       "      <td>0.431146</td>\n",
       "      <td>1.008057</td>\n",
       "      <td>19.087406</td>\n",
       "      <td>0.000067</td>\n",
       "      <td>0.397398</td>\n",
       "      <td>0.434914</td>\n",
       "      <td>0.231533</td>\n",
       "      <td>2.429870</td>\n",
       "    </tr>\n",
       "    <tr>\n",
       "      <th>559</th>\n",
       "      <td>0.687762</td>\n",
       "      <td>0.476925</td>\n",
       "      <td>5.879401</td>\n",
       "      <td>0.784347</td>\n",
       "      <td>0.759467</td>\n",
       "      <td>2.403024</td>\n",
       "      <td>0.746700</td>\n",
       "      <td>1.000000</td>\n",
       "      <td>1.000000</td>\n",
       "      <td>1.000000</td>\n",
       "      <td>1.000000</td>\n",
       "      <td>4.705422</td>\n",
       "      <td>0.580969</td>\n",
       "      <td>18.808722</td>\n",
       "      <td>9.208131</td>\n",
       "      <td>0.390412</td>\n",
       "      <td>0.516590</td>\n",
       "      <td>7.575745</td>\n",
       "    </tr>\n",
       "    <tr>\n",
       "      <th>560</th>\n",
       "      <td>0.828358</td>\n",
       "      <td>0.742285</td>\n",
       "      <td>1.517281</td>\n",
       "      <td>1.067208</td>\n",
       "      <td>0.958522</td>\n",
       "      <td>1.550869</td>\n",
       "      <td>1.000000</td>\n",
       "      <td>1.000000</td>\n",
       "      <td>1.000000</td>\n",
       "      <td>1.000000</td>\n",
       "      <td>1.000000</td>\n",
       "      <td>3.782085</td>\n",
       "      <td>0.793936</td>\n",
       "      <td>2.428609</td>\n",
       "      <td>1.765927</td>\n",
       "      <td>1.138519</td>\n",
       "      <td>0.919477</td>\n",
       "      <td>2.778705</td>\n",
       "    </tr>\n",
       "  </tbody>\n",
       "</table>\n",
       "<p>561 rows × 18 columns</p>\n",
       "</div>"
      ],
      "text/plain": [
       "           lr                                                            l1  \\\n",
       "            0         1         2         3         4         5           0   \n",
       "0    0.916213  0.640680  1.294292  0.844268  2.150308  0.923039    0.991859   \n",
       "1    1.014598  0.817874  1.062784  0.976765  1.114011  0.780990    1.000000   \n",
       "2    1.030647  1.065236  1.278783  1.022590  1.060754  0.668629    1.000000   \n",
       "3    1.004601  0.480003  0.702766  0.495926  1.306019  2.005955    1.000000   \n",
       "4    0.955609  0.966422  0.636450  1.297250  0.596400  1.112097    1.000000   \n",
       "..        ...       ...       ...       ...       ...       ...         ...   \n",
       "556  0.978111  0.517126  1.734346  0.790625  1.469877  0.703638    1.000000   \n",
       "557  1.060196  0.781165  1.308649  0.850432  0.854189  1.190237    1.000000   \n",
       "558  4.948600  0.084324  0.425448  0.731146  0.490321  1.516358  116.129980   \n",
       "559  0.687762  0.476925  5.879401  0.784347  0.759467  2.403024    0.746700   \n",
       "560  0.828358  0.742285  1.517281  1.067208  0.958522  1.550869    1.000000   \n",
       "\n",
       "                                                               l2             \\\n",
       "            1         2         3          4         5          0          1   \n",
       "0    1.000000  1.000000  1.000000  57.117992  1.000000   0.873469   0.259646   \n",
       "1    1.000000  1.000000  1.000000   1.000000  1.000000   1.029769   0.320714   \n",
       "2    1.000000  1.000000  1.000000   1.000000  1.000000   1.041416   0.241716   \n",
       "3    0.187868  0.645083  0.452310   1.000000  8.866214   1.019275   0.077093   \n",
       "4    1.000000  0.266008  1.000000   0.220389  1.000000   0.964653   1.831480   \n",
       "..        ...       ...       ...        ...       ...        ...        ...   \n",
       "556  0.464770  1.625320  0.869849   1.642019  0.483257   0.867077   0.440379   \n",
       "557  0.510375  2.376034  0.923537   0.973334  1.456430   1.126537   0.507954   \n",
       "558  0.000277  1.000000  1.000000   0.431146  1.008057  19.087406   0.000067   \n",
       "559  1.000000  1.000000  1.000000   1.000000  4.705422   0.580969  18.808722   \n",
       "560  1.000000  1.000000  1.000000   1.000000  3.782085   0.793936   2.428609   \n",
       "\n",
       "                                             \n",
       "            2         3         4         5  \n",
       "0    1.623519  0.619417  6.234809  1.030206  \n",
       "1    1.112795  0.857337  1.204927  0.591680  \n",
       "2    1.591011  1.144016  1.009820  0.384892  \n",
       "3    0.647270  0.167155  1.321385  5.815080  \n",
       "4    0.513822  2.466596  0.377313  1.075302  \n",
       "..        ...       ...       ...       ...  \n",
       "556  1.793898  0.531501  1.901371  0.535605  \n",
       "557  1.578699  0.614838  0.862421  1.423487  \n",
       "558  0.397398  0.434914  0.231533  2.429870  \n",
       "559  9.208131  0.390412  0.516590  7.575745  \n",
       "560  1.765927  1.138519  0.919477  2.778705  \n",
       "\n",
       "[561 rows x 18 columns]"
      ]
     },
     "execution_count": 25,
     "metadata": {},
     "output_type": "execute_result"
    }
   ],
   "source": [
    "coefficients = []\n",
    "\n",
    "coef_model = [lor,lor_l1,lor_l2]\n",
    "coef_label = ['lr','l1','l2']\n",
    "\n",
    "for lab,mod in zip(coef_label,coef_model):\n",
    "    coeff = mod.coef_ ##This gives us the log odds\n",
    "    coeff_exp = np.exp(coeff) ##We concvert the log odds into regular odds to make more sense out of them.\n",
    "    coeffi_label = pd.MultiIndex(levels=[[lab],[0,1,2,3,4,5]],codes=[[0,0,0,0,0,0], [0,1,2,3,4,5]])\n",
    "    coefficients.append(pd.DataFrame(coeff_exp.T,columns=coeffi_label))\n",
    "    \n",
    "coefficients = pd.concat(coefficients,axis=1)\n",
    "coefficients\n",
    "    "
   ]
  },
  {
   "cell_type": "markdown",
   "metadata": {},
   "source": [
    "##### Here we plot the coefficients from all the three models that we have fitted. We see the strength of the coefficients which vary in terms of weight if regularized techniques are used"
   ]
  },
  {
   "cell_type": "code",
   "execution_count": 61,
   "metadata": {},
   "outputs": [
    {
     "data": {
      "image/png": "[encoded data removed]",
      "text/plain": [
       "<Figure size 1080x1080 with 6 Axes>"
      ]
     },
     "metadata": {},
     "output_type": "display_data"
    }
   ],
   "source": [
    "fig,axes = plt.subplots(nrows=3,ncols=2)\n",
    "axes = axes.flatten()\n",
    "fig.set_size_inches(15,15)\n",
    "\n",
    "for a in enumerate(axes):\n",
    "    lab = a[0]\n",
    "    ax = a[1]\n",
    "    d = coefficients.xs(lab,level=1,axis=1)\n",
    "    d.plot(ax=ax,title = 'Coefficients Set'+ ' ' +str(lab),legend=True, marker='o')"
   ]
  },
  {
   "cell_type": "markdown",
   "metadata": {},
   "source": [
    "###### We make predictions for each of the model and check its accuracy further. Also note that we store the porbabilities of each of the classes in each of the models."
   ]
  },
  {
   "cell_type": "code",
   "execution_count": 186,
   "metadata": {},
   "outputs": [
    {
     "name": "stdout",
     "output_type": "stream",
     "text": [
      "   lr  l1  l2\n",
      "0   3   3   3\n",
      "1   5   5   5\n",
      "2   3   3   3\n",
      "3   1   1   1\n",
      "4   0   0   0\n",
      "-----------------------------------------------------------------------------------------------------------------------------\n"
     ]
    },
    {
     "data": {
      "text/html": [
       "<div>\n",
       "<style scoped>\n",
       "    .dataframe tbody tr th:only-of-type {\n",
       "        vertical-align: middle;\n",
       "    }\n",
       "\n",
       "    .dataframe tbody tr th {\n",
       "        vertical-align: top;\n",
       "    }\n",
       "\n",
       "    .dataframe thead th {\n",
       "        text-align: right;\n",
       "    }\n",
       "</style>\n",
       "<table border=\"1\" class=\"dataframe\">\n",
       "  <thead>\n",
       "    <tr style=\"text-align: right;\">\n",
       "      <th></th>\n",
       "      <th>0</th>\n",
       "      <th>1</th>\n",
       "      <th>2</th>\n",
       "      <th>3</th>\n",
       "      <th>4</th>\n",
       "      <th>5</th>\n",
       "      <th>0</th>\n",
       "      <th>1</th>\n",
       "      <th>2</th>\n",
       "      <th>3</th>\n",
       "      <th>4</th>\n",
       "      <th>5</th>\n",
       "      <th>0</th>\n",
       "      <th>1</th>\n",
       "      <th>2</th>\n",
       "      <th>3</th>\n",
       "      <th>4</th>\n",
       "      <th>5</th>\n",
       "    </tr>\n",
       "  </thead>\n",
       "  <tbody>\n",
       "    <tr>\n",
       "      <th>0</th>\n",
       "      <td>0.000034</td>\n",
       "      <td>1.683471e-04</td>\n",
       "      <td>5.675971e-04</td>\n",
       "      <td>9.989388e-01</td>\n",
       "      <td>0.000006</td>\n",
       "      <td>2.845349e-04</td>\n",
       "      <td>0.000034</td>\n",
       "      <td>5.499924e-06</td>\n",
       "      <td>1.096433e-03</td>\n",
       "      <td>9.988641e-01</td>\n",
       "      <td>5.490681e-10</td>\n",
       "      <td>2.977904e-08</td>\n",
       "      <td>1.236526e-07</td>\n",
       "      <td>2.156679e-08</td>\n",
       "      <td>2.425560e-04</td>\n",
       "      <td>9.997567e-01</td>\n",
       "      <td>3.828203e-09</td>\n",
       "      <td>6.047180e-07</td>\n",
       "    </tr>\n",
       "    <tr>\n",
       "      <th>1</th>\n",
       "      <td>0.000037</td>\n",
       "      <td>3.211741e-07</td>\n",
       "      <td>4.237867e-06</td>\n",
       "      <td>1.425050e-04</td>\n",
       "      <td>0.011650</td>\n",
       "      <td>9.881653e-01</td>\n",
       "      <td>0.000044</td>\n",
       "      <td>9.251693e-09</td>\n",
       "      <td>1.229141e-07</td>\n",
       "      <td>3.362444e-05</td>\n",
       "      <td>4.622893e-04</td>\n",
       "      <td>9.994598e-01</td>\n",
       "      <td>2.671231e-07</td>\n",
       "      <td>4.947483e-14</td>\n",
       "      <td>1.393998e-07</td>\n",
       "      <td>1.036767e-09</td>\n",
       "      <td>5.224838e-04</td>\n",
       "      <td>9.994771e-01</td>\n",
       "    </tr>\n",
       "    <tr>\n",
       "      <th>2</th>\n",
       "      <td>0.000036</td>\n",
       "      <td>4.352809e-03</td>\n",
       "      <td>2.962612e-06</td>\n",
       "      <td>9.875916e-01</td>\n",
       "      <td>0.005011</td>\n",
       "      <td>3.006543e-03</td>\n",
       "      <td>0.000003</td>\n",
       "      <td>3.976673e-03</td>\n",
       "      <td>2.274766e-07</td>\n",
       "      <td>9.949737e-01</td>\n",
       "      <td>1.041154e-03</td>\n",
       "      <td>5.677580e-06</td>\n",
       "      <td>1.838149e-07</td>\n",
       "      <td>6.904358e-05</td>\n",
       "      <td>1.415531e-07</td>\n",
       "      <td>9.996694e-01</td>\n",
       "      <td>2.352310e-04</td>\n",
       "      <td>2.595704e-05</td>\n",
       "    </tr>\n",
       "    <tr>\n",
       "      <th>3</th>\n",
       "      <td>0.000223</td>\n",
       "      <td>9.813812e-01</td>\n",
       "      <td>1.838388e-02</td>\n",
       "      <td>1.419554e-07</td>\n",
       "      <td>0.000012</td>\n",
       "      <td>1.288313e-12</td>\n",
       "      <td>0.000005</td>\n",
       "      <td>9.991629e-01</td>\n",
       "      <td>8.323619e-04</td>\n",
       "      <td>1.963327e-11</td>\n",
       "      <td>4.442464e-10</td>\n",
       "      <td>7.064892e-23</td>\n",
       "      <td>1.315083e-07</td>\n",
       "      <td>9.943384e-01</td>\n",
       "      <td>5.661432e-03</td>\n",
       "      <td>9.000480e-17</td>\n",
       "      <td>2.206305e-09</td>\n",
       "      <td>2.034896e-21</td>\n",
       "    </tr>\n",
       "    <tr>\n",
       "      <th>4</th>\n",
       "      <td>0.998277</td>\n",
       "      <td>1.717723e-03</td>\n",
       "      <td>3.008377e-09</td>\n",
       "      <td>2.088713e-07</td>\n",
       "      <td>0.000005</td>\n",
       "      <td>1.393958e-10</td>\n",
       "      <td>0.999921</td>\n",
       "      <td>7.887125e-05</td>\n",
       "      <td>2.963698e-14</td>\n",
       "      <td>2.985022e-10</td>\n",
       "      <td>1.391932e-10</td>\n",
       "      <td>2.174879e-20</td>\n",
       "      <td>9.999974e-01</td>\n",
       "      <td>2.614453e-06</td>\n",
       "      <td>5.060056e-12</td>\n",
       "      <td>9.928196e-16</td>\n",
       "      <td>1.708535e-09</td>\n",
       "      <td>7.550497e-19</td>\n",
       "    </tr>\n",
       "  </tbody>\n",
       "</table>\n",
       "</div>"
      ],
      "text/plain": [
       "          0             1             2             3         4             5  \\\n",
       "0  0.000034  1.683471e-04  5.675971e-04  9.989388e-01  0.000006  2.845349e-04   \n",
       "1  0.000037  3.211741e-07  4.237867e-06  1.425050e-04  0.011650  9.881653e-01   \n",
       "2  0.000036  4.352809e-03  2.962612e-06  9.875916e-01  0.005011  3.006543e-03   \n",
       "3  0.000223  9.813812e-01  1.838388e-02  1.419554e-07  0.000012  1.288313e-12   \n",
       "4  0.998277  1.717723e-03  3.008377e-09  2.088713e-07  0.000005  1.393958e-10   \n",
       "\n",
       "          0             1             2             3             4  \\\n",
       "0  0.000034  5.499924e-06  1.096433e-03  9.988641e-01  5.490681e-10   \n",
       "1  0.000044  9.251693e-09  1.229141e-07  3.362444e-05  4.622893e-04   \n",
       "2  0.000003  3.976673e-03  2.274766e-07  9.949737e-01  1.041154e-03   \n",
       "3  0.000005  9.991629e-01  8.323619e-04  1.963327e-11  4.442464e-10   \n",
       "4  0.999921  7.887125e-05  2.963698e-14  2.985022e-10  1.391932e-10   \n",
       "\n",
       "              5             0             1             2             3  \\\n",
       "0  2.977904e-08  1.236526e-07  2.156679e-08  2.425560e-04  9.997567e-01   \n",
       "1  9.994598e-01  2.671231e-07  4.947483e-14  1.393998e-07  1.036767e-09   \n",
       "2  5.677580e-06  1.838149e-07  6.904358e-05  1.415531e-07  9.996694e-01   \n",
       "3  7.064892e-23  1.315083e-07  9.943384e-01  5.661432e-03  9.000480e-17   \n",
       "4  2.174879e-20  9.999974e-01  2.614453e-06  5.060056e-12  9.928196e-16   \n",
       "\n",
       "              4             5  \n",
       "0  3.828203e-09  6.047180e-07  \n",
       "1  5.224838e-04  9.994771e-01  \n",
       "2  2.352310e-04  2.595704e-05  \n",
       "3  2.206305e-09  2.034896e-21  \n",
       "4  1.708535e-09  7.550497e-19  "
      ]
     },
     "execution_count": 186,
     "metadata": {},
     "output_type": "execute_result"
    }
   ],
   "source": [
    "y_pred = []\n",
    "y_prob = []\n",
    "\n",
    "coef_model = [lor,lor_l1,lor_l2]\n",
    "coef_label = ['lr','l1','l2']\n",
    "\n",
    "#For predictions\n",
    "for lab,mod in zip(coef_label,coef_model):\n",
    "    y_pred.append(pd.Series(mod.predict(x_test),name = str(lab)))\n",
    "    \n",
    "y_pred = pd.concat(y_pred,axis=1)\n",
    "print(y_pred.head())\n",
    "\n",
    "\n",
    "print('-'*125)\n",
    "\n",
    "#For probabilities\n",
    "y_prob=[]\n",
    "for mod in coef_model:\n",
    "    y_prob.append(pd.DataFrame(mod.predict_proba(x_test)))\n",
    "    \n",
    "y_prob = pd.concat(y_prob,axis=1)\n",
    "y_prob.head()"
   ]
  },
  {
   "cell_type": "markdown",
   "metadata": {},
   "source": [
    "###### Hence we compare the first row in the data frame from the table above the dividing line. The first row in the data frame of probabilities shows class 3 with the maximum probability in all the models fitted. And the table above the dividing line with the estimated predictions shows the predicted class as 3 only.\n",
    "\n",
    "###### Hence this validates our methods used and hence the algorithm used namely One vs Rest!"
   ]
  },
  {
   "cell_type": "markdown",
   "metadata": {},
   "source": [
    "## Now we look into some error metrics in order to check the accuracy of each of our models.\n",
    "\n",
    "#### Some of the metrics used are the following: -\n",
    "* Precision\n",
    "* Recall\n",
    "* fscore/harmonic mean of recall and precision\n",
    "* Accuracy"
   ]
  },
  {
   "cell_type": "code",
   "execution_count": 205,
   "metadata": {},
   "outputs": [],
   "source": [
    "from sklearn.metrics import precision_recall_fscore_support as score\n",
    "##The above bifurcates all the metrics in a single function with support giving the value counts of each essentially\n",
    "from sklearn.metrics import confusion_matrix,accuracy_score,roc_auc_score\n",
    "from sklearn.preprocessing import label_binarize as lb\n",
    "\n",
    "metrics=[]\n",
    "coef_label = ['lr','l1','l2']\n",
    "cm={}\n",
    "\n",
    "for co in coef_label:\n",
    "    precision,recall,fscore,_ = score(y_test,y_pred[co],average='weighted') ##the function returns a tuple and hence we can UNPACK\n",
    "    \n",
    "    accuracy = accuracy_score(y_test,y_pred[co])\n",
    "    \n",
    "    # ROC-AUC scores can be calculated by binarizing the data.\n",
    "    auc = roc_auc_score(lb(y_test,classes=[0,1,2,3,4,5]),lb(y_pred[co],classes=[0,1,2,3,4,5]),average='weighted')\n",
    "    \n",
    "    # confusion matrix\n",
    "    cm[co] = confusion_matrix(y_test,y_pred[co])\n",
    "    \n",
    "    metrics.append(pd.Series({'precision':precision,'recall':recall,'fscore':fscore,'Area under ROC curve':auc,\n",
    "                             'Accuracy':accuracy},name=co))\n",
    "    \n",
    "metrics_df = pd.concat(metrics,axis=1)"
   ]
  },
  {
   "cell_type": "code",
   "execution_count": 206,
   "metadata": {},
   "outputs": [
    {
     "data": {
      "text/html": [
       "<div>\n",
       "<style scoped>\n",
       "    .dataframe tbody tr th:only-of-type {\n",
       "        vertical-align: middle;\n",
       "    }\n",
       "\n",
       "    .dataframe tbody tr th {\n",
       "        vertical-align: top;\n",
       "    }\n",
       "\n",
       "    .dataframe thead th {\n",
       "        text-align: right;\n",
       "    }\n",
       "</style>\n",
       "<table border=\"1\" class=\"dataframe\">\n",
       "  <thead>\n",
       "    <tr style=\"text-align: right;\">\n",
       "      <th></th>\n",
       "      <th>lr</th>\n",
       "      <th>l1</th>\n",
       "      <th>l2</th>\n",
       "    </tr>\n",
       "  </thead>\n",
       "  <tbody>\n",
       "    <tr>\n",
       "      <th>precision</th>\n",
       "      <td>0.984144</td>\n",
       "      <td>0.983833</td>\n",
       "      <td>0.983824</td>\n",
       "    </tr>\n",
       "    <tr>\n",
       "      <th>recall</th>\n",
       "      <td>0.984142</td>\n",
       "      <td>0.983819</td>\n",
       "      <td>0.983819</td>\n",
       "    </tr>\n",
       "    <tr>\n",
       "      <th>fscore</th>\n",
       "      <td>0.984143</td>\n",
       "      <td>0.983817</td>\n",
       "      <td>0.983819</td>\n",
       "    </tr>\n",
       "    <tr>\n",
       "      <th>Area under ROC curve</th>\n",
       "      <td>0.990384</td>\n",
       "      <td>0.990148</td>\n",
       "      <td>0.990165</td>\n",
       "    </tr>\n",
       "    <tr>\n",
       "      <th>Accuracy</th>\n",
       "      <td>0.984142</td>\n",
       "      <td>0.983819</td>\n",
       "      <td>0.983819</td>\n",
       "    </tr>\n",
       "  </tbody>\n",
       "</table>\n",
       "</div>"
      ],
      "text/plain": [
       "                            lr        l1        l2\n",
       "precision             0.984144  0.983833  0.983824\n",
       "recall                0.984142  0.983819  0.983819\n",
       "fscore                0.984143  0.983817  0.983819\n",
       "Area under ROC curve  0.990384  0.990148  0.990165\n",
       "Accuracy              0.984142  0.983819  0.983819"
      ]
     },
     "execution_count": 206,
     "metadata": {},
     "output_type": "execute_result"
    }
   ],
   "source": [
    "metrics_df"
   ]
  },
  {
   "cell_type": "markdown",
   "metadata": {},
   "source": [
    "### Now we plot a confusion matrix and make some inferences out of it"
   ]
  },
  {
   "cell_type": "code",
   "execution_count": 246,
   "metadata": {},
   "outputs": [
    {
     "data": {
      "image/png": "[encoded data removed]",
      "text/plain": [
       "<Figure size 1080x1080 with 7 Axes>"
      ]
     },
     "metadata": {},
     "output_type": "display_data"
    }
   ],
   "source": [
    "fig,axes = plt.subplots(nrows=2,ncols=2)\n",
    "axes = axes.flatten() #We flatten it in one dimensional for the loop constructs\n",
    "fig.set_size_inches(15,15)\n",
    "\n",
    "coef_label = ['lr','l1','l2']\n",
    "axes[-1].axis('off') ## As we only have 3 heat maps so we disable the fourth\n",
    "\n",
    "for lab,ax in zip(coef_label,axes[:-1]):\n",
    "    sns.heatmap(cm[lab],ax=ax,annot=True,fmt='d')\n",
    "    ax.set_title('Confusion matrix for'+ \" \"+ str(lab))\n",
    "    \n",
    "plt.tight_layout()\n",
    "plt.show()\n",
    "    "
   ]
  },
  {
   "cell_type": "code",
   "execution_count": 249,
   "metadata": {},
   "outputs": [
    {
     "data": {
      "text/plain": [
       "array(['LAYING', 'SITTING', 'STANDING', 'WALKING', 'WALKING_DOWNSTAIRS',\n",
       "       'WALKING_UPSTAIRS'], dtype=object)"
      ]
     },
     "execution_count": 249,
     "metadata": {},
     "output_type": "execute_result"
    }
   ],
   "source": [
    "le.classes_"
   ]
  },
  {
   "cell_type": "markdown",
   "metadata": {},
   "source": [
    "# INFERENCES"
   ]
  },
  {
   "cell_type": "markdown",
   "metadata": {},
   "source": [
    "* Hence we observe that activity 'Laying' which was encoded as 0 has been predicted with a 100% accuracy for all the three models fitted.\n",
    "\n",
    "\n",
    "* Finally, the activities of 'Sitting' and 'Standing' - encoded as 1 and 0 respectively have been often confused with one another in all the three models."
   ]
  },
  {
   "cell_type": "markdown",
   "metadata": {},
   "source": [
    "## END"
   ]
  }
 ],
 "metadata": {
  "kernelspec": {
   "display_name": "Python 3",
   "language": "python",
   "name": "python3"
  },
  "language_info": {
   "codemirror_mode": {
    "name": "ipython",
    "version": 3
   },
   "file_extension": ".py",
   "mimetype": "text/x-python",
   "name": "python",
   "nbconvert_exporter": "python",
   "pygments_lexer": "ipython3",
   "version": "3.8.0"
  }
 },
 "nbformat": 4,
 "nbformat_minor": 4
}
